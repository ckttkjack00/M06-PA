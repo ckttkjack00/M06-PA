{
 "cells": [
  {
   "cell_type": "markdown",
   "id": "97e1b149-9ae4-44a1-b114-541efbcfd7ae",
   "metadata": {},
   "source": [
    "13.1"
   ]
  },
  {
   "cell_type": "code",
   "execution_count": 15,
   "id": "0f9111c1-c4f7-4923-ac20-de2e40a726c9",
   "metadata": {},
   "outputs": [],
   "source": [
    "with open('today.txt', 'w') as file:\n",
    "    file.write(\"2024-09-30\")\n"
   ]
  },
  {
   "cell_type": "markdown",
   "id": "74720943-ff35-4ac8-9b1d-5672ba794b6c",
   "metadata": {},
   "source": [
    "13.2"
   ]
  },
  {
   "cell_type": "code",
   "execution_count": 16,
   "id": "97e181da-95e1-4a70-bad9-d7a3ef45fbdc",
   "metadata": {},
   "outputs": [],
   "source": [
    "with open('today.txt', 'r') as file:\n",
    "    today_string = file.read()\n"
   ]
  },
  {
   "cell_type": "markdown",
   "id": "09f1c324-741e-40e1-a422-18878bf17293",
   "metadata": {},
   "source": [
    "13.2"
   ]
  },
  {
   "cell_type": "code",
   "execution_count": 17,
   "id": "09815dd5-ff6e-454a-ad0c-bc8238a1870d",
   "metadata": {},
   "outputs": [],
   "source": [
    "from datetime import datetime\n",
    "parsed_date = datetime.strptime(today_string, '%Y-%m-%d').date()\n"
   ]
  },
  {
   "cell_type": "markdown",
   "id": "14af0a6f-4a31-413a-b765-ae4a65873b32",
   "metadata": {},
   "source": [
    "15.1"
   ]
  },
  {
   "cell_type": "code",
   "execution_count": 18,
   "id": "a2c91e12-412a-4aec-a0e3-052a856f7dad",
   "metadata": {},
   "outputs": [],
   "source": [
    "import multiprocessing\n",
    "import time\n",
    "import random\n",
    "from datetime import datetime\n",
    "\n",
    "def worker():\n",
    "    wait_time = random.uniform(0, 1)\n",
    "    time.sleep(wait_time)\n",
    "    print(f\"Process {multiprocessing.current_process().name} - Time: {datetime.now()}\")\n",
    "\n",
    "if __name__ == \"__main__\":\n",
    "    processes = []\n",
    "    for i in range(3):\n",
    "        process = multiprocessing.Process(target=worker, name=f\"Process-{i+1}\")\n",
    "        processes.append(process)\n",
    "        process.start()\n",
    "\n",
    "    for process in processes:\n",
    "        process.join()\n"
   ]
  },
  {
   "cell_type": "code",
   "execution_count": null,
   "id": "7143b5e4-bfee-4474-a453-3aaad8d69efa",
   "metadata": {},
   "outputs": [],
   "source": []
  },
  {
   "cell_type": "code",
   "execution_count": null,
   "id": "11284848-8283-47d8-8699-673ca19a87d4",
   "metadata": {},
   "outputs": [],
   "source": []
  },
  {
   "cell_type": "code",
   "execution_count": null,
   "id": "26cec332-9697-4269-97a9-f799bb51a521",
   "metadata": {},
   "outputs": [],
   "source": []
  },
  {
   "cell_type": "code",
   "execution_count": null,
   "id": "a6c1a8f5-7fad-4ba3-b4c2-2d40ba1ee2ba",
   "metadata": {},
   "outputs": [],
   "source": []
  }
 ],
 "metadata": {
  "kernelspec": {
   "display_name": "Python 3 (ipykernel)",
   "language": "python",
   "name": "python3"
  },
  "language_info": {
   "codemirror_mode": {
    "name": "ipython",
    "version": 3
   },
   "file_extension": ".py",
   "mimetype": "text/x-python",
   "name": "python",
   "nbconvert_exporter": "python",
   "pygments_lexer": "ipython3",
   "version": "3.11.9"
  }
 },
 "nbformat": 4,
 "nbformat_minor": 5
}
